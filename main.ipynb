{
 "cells": [
  {
   "cell_type": "markdown",
   "metadata": {},
   "source": [
    "# When to buy Bitcoin - custom CNN indicator\n",
    "\n",
    "Custom technical indicator using CNN and data from Cryptomon API (https://api.cryptomon.io/swagger-ui.html). For more info about perfomance or implementation, please check original repository: https://github.com/kimber-chen/Tensorflow-for-stock-prediction.\n",
    "\n",
    "### API Credentials\n",
    "\n",
    "To obtain API credentials, follow these instructions:\n",
    "1. Create new Premium Account: https://cryptomon.io/create-account\n",
    "2. API credentials under Account information: https://cryptomon.io/account#api\n"
   ]
  },
  {
   "cell_type": "markdown",
   "metadata": {},
   "source": [
    "### Run Python code\n",
    "\n",
    "To run the code below:\n",
    "\n",
    "1. Click on the cell to select it.\n",
    "2. Press `SHIFT+ENTER` on your keyboard or press the play button (<button class='fa fa-play icon-play btn btn-xs btn-default'></button>) in the toolbar above.\n",
    "\n",
    "A full tutorial for using the notebook interface is available [here](ipython_examples/Notebook/Index.ipynb).\n"
   ]
  },
  {
   "cell_type": "code",
   "execution_count": 1,
   "metadata": {
    "collapsed": false
   },
   "outputs": [],
   "source": [
    "## Some imports\n",
    "\n",
    "% matplotlib inline\n",
    "\n",
    "import numpy as np\n",
    "import pandas as pd\n",
    "import tensorflow as tf\n",
    "import matplotlib.pyplot as plt\n",
    "from tensorflow.python.framework import ops\n",
    "from tensorflow.python.ops import clip_ops\n",
    "from bn_class import *\n",
    "\n",
    "import sys\n",
    "sys.path.append(\"../API_Client/\") \n",
    "\n",
    "from ApiClient import ApiClient"
   ]
  },
  {
   "cell_type": "code",
   "execution_count": 2,
   "metadata": {
    "collapsed": false
   },
   "outputs": [],
   "source": [
    "## Hyperparameters\n",
    "\n",
    "num_filt_1 = 15     #Number of filters in first conv layer\n",
    "num_filt_2 = 8      #Number of filters in second conv layer\n",
    "num_filt_3 = 8      #Number of filters in thirs conv layer\n",
    "num_fc_1 = 1024     #Number of neurons in hully connected layer\n",
    "max_iterations = 8000\n",
    "model_num=5         #Number of model used for voting\n",
    "voting_times=1      #Threshold of voting\n",
    "batch_size = 50\n",
    "dropout = 0.5       #Dropout rate in the fully connected layer\n",
    "plot_row = 5        #How many rows do you want to plot in the visualization\n",
    "regularization = 1e-4\n",
    "learning_rate = 2e-3\n",
    "input_norm = False   # Do you want z-score input normalization?\n",
    "np.set_printoptions(threshold=np.inf)#print full array\n"
   ]
  },
  {
   "cell_type": "code",
   "execution_count": 3,
   "metadata": {
    "collapsed": false
   },
   "outputs": [
    {
     "name": "stdout",
     "output_type": "stream",
     "text": [
      "Requesting access_token...\n",
      "Success, access_token: fe3821db-23ab-4153-b4a7-02584dc8d45f, expires_in: 37\n",
      "Request, url: https://api.cryptomon.io/api/v1/candles, params: {'ascending': 'false', 'currencyPair': 'BTC_USD', 'period': 'ONE_HOUR', 'market': 'BITSTAMP'}\n",
      "Success, status_code: 200\n",
      "rows: 1147\n"
     ]
    }
   ],
   "source": [
    "## Cryptomon API credentials\n",
    "\n",
    "CLIENT_ID = \"<API_CLIENT_ID>\"\n",
    "CLIENT_SECRET = \"<API_CLIENT_SECRET>\"\n",
    "\n",
    "c = ApiClient(CLIENT_ID, CLIENT_SECRET)\n",
    "c.request_access()\n",
    "\n",
    "params = {\n",
    "    \"market\" : \"BITSTAMP\",\n",
    "    \"currencyPair\" : \"BTC_USD\",\n",
    "    \"period\" : \"ONE_HOUR\",\n",
    "    \"ascending\" : \"false\"\n",
    "}\n",
    "rows = c.get(\"https://api.cryptomon.io/api/v1/candles\", params)\n",
    "print(\"rows: {}\".format(len(rows)))\n",
    "# print(\"rows: {}\".format(rows))"
   ]
  },
  {
   "cell_type": "code",
   "execution_count": 4,
   "metadata": {
    "collapsed": false
   },
   "outputs": [
    {
     "name": "stdout",
     "output_type": "stream",
     "text": [
      "data_x.len: 114\n"
     ]
    }
   ],
   "source": [
    "## Prepare data\n",
    "\n",
    "data_x = []\n",
    "r=[]\n",
    "for count, item in enumerate(rows, 1): # Start counting from 1\n",
    "    r.append(item['close'])\n",
    "    if count % 10 == 0:\n",
    "        data_x.append(r[::-1]) # reverse\n",
    "        r = []\n",
    "\n",
    "print(\"data_x.len: {}\".format(len(data_x)))\n",
    "data_x = data_x[::-1] # reverse\n",
    "# print(\"data_x: {}\".format(data_x))"
   ]
  },
  {
   "cell_type": "code",
   "execution_count": 5,
   "metadata": {
    "collapsed": false
   },
   "outputs": [
    {
     "name": "stdout",
     "output_type": "stream",
     "text": [
      "data_train: 94\n",
      "data_test: 20\n"
     ]
    }
   ],
   "source": [
    "## Mark data\n",
    "\n",
    "def get_change(current, previous):\n",
    "    if current == previous:\n",
    "        return 100.0\n",
    "    try:\n",
    "        return ((current - previous)/previous)*100.0\n",
    "    except ZeroDivisionError:\n",
    "        return 0\n",
    "\n",
    "def mark_data(item, rows):\n",
    "    rows_flat = sum(rows, [])\n",
    "    # print(\"item: {}\".format(item))\n",
    "    # print(\"rows_flat: {}\".format(rows_flat))\n",
    "    \n",
    "    if not rows_flat:\n",
    "        return False\n",
    "    \n",
    "    i_max = max(item)\n",
    "    i_min = min(item)\n",
    "    \n",
    "    r_max = max(rows_flat)\n",
    "    r_min = min(rows_flat)\n",
    "    \n",
    "    # price_series = pd.Series(rows_flat)\n",
    "    # change = price_series.pct_change()\n",
    "    # print(\"change: {}\".format(change))\n",
    "    \n",
    "    # print(\"r_max: {}\".format(r_max))\n",
    "    # print(\"i_min: {}\".format(i_min))\n",
    "    \n",
    "    change = get_change(r_max, i_min)\n",
    "    # print(\"change: {}\".format(change))\n",
    "    \n",
    "    # 5 % change in 10 days\n",
    "    if(change > 5):\n",
    "        return True\n",
    "    return False\n",
    "    \n",
    "\n",
    "data_x_c = data_x[:]\n",
    "for index, item in enumerate(data_x):     \n",
    "    # 10 days\n",
    "    data = data_x[(index + 1): (index + 2)]\n",
    "    #print(\"index: {}\".format(index))\n",
    "    #print(\"len.data_x: {}\".format(len(data_x)))\n",
    "    #print(\"len.data: {}\".format(len(data)))\n",
    "    \n",
    "    if(mark_data(item, data)):\n",
    "        data_x_c[index].insert(0, 1)\n",
    "    else: \n",
    "        data_x_c[index].insert(0, 0)   \n",
    "        \n",
    "data_x_c = np.array(data_x_c)\n",
    "data_x_c = np.around(data_x_c, decimals=2)\n",
    "\n",
    "# Last 200 bars is used for test\n",
    "data_train = data_x_c[:-20]\n",
    "# data_train = data_x_c[:]\n",
    "print(\"data_train: {}\".format(len(data_train)))\n",
    "# print(\"data_train: {}\".format(data_train))\n",
    "\n",
    "# data_test = np.array(data_x_c[:])  \n",
    "data_test = np.array(data_x_c[-20:])\n",
    "print(\"data_test: {}\".format(len(data_test)))\n",
    "# print(\"data_test: {}\".format(data_test))   \n"
   ]
  },
  {
   "cell_type": "code",
   "execution_count": 6,
   "metadata": {
    "collapsed": false
   },
   "outputs": [],
   "source": [
    "## Split training and testing data\n",
    "\n",
    "X_train = data_train[:,1:] # [:,1:] - slice columns, all without first column\n",
    "X_test = data_test[:,1:]\n",
    "N = X_train.shape[0]\n",
    "Ntest = X_test.shape[0]\n",
    "D = X_train.shape[1]\n",
    "y_train = data_train[:,0]\n",
    "y_test = data_test[:,0]"
   ]
  },
  {
   "cell_type": "code",
   "execution_count": 7,
   "metadata": {
    "collapsed": false
   },
   "outputs": [],
   "source": [
    "## Normalize x and y\n",
    "\n",
    "num_classes = len(np.unique(y_train))\n",
    "base = np.min(y_train)  #Check if data is 0-based\n",
    "if base != 0:\n",
    "    y_train -=base\n",
    "    y_test -= base\n",
    "\n",
    "if input_norm:\n",
    "    mean = np.mean(X_train,axis=0)\n",
    "    variance = np.var(X_train,axis=0)\n",
    "    X_train -= mean\n",
    "    #The 1e-9 avoids dividing by zero\n",
    "    X_train /= np.sqrt(variance)+1e-9\n",
    "    X_test -= mean\n",
    "    X_test /= np.sqrt(variance)+1e-9"
   ]
  },
  {
   "cell_type": "code",
   "execution_count": 8,
   "metadata": {
    "collapsed": false
   },
   "outputs": [
    {
     "name": "stdout",
     "output_type": "stream",
     "text": [
      "Train with approximately 4255 epochs\n"
     ]
    }
   ],
   "source": [
    "epochs = np.floor(batch_size*max_iterations / N)\n",
    "print('Train with approximately %d epochs' %(epochs))\n"
   ]
  },
  {
   "cell_type": "code",
   "execution_count": 9,
   "metadata": {
    "collapsed": false,
    "slideshow": {
     "slide_type": "slide"
    }
   },
   "outputs": [
    {
     "name": "stdout",
     "output_type": "stream",
     "text": [
      "Training at model 0\n",
      " Training accuracy at 0 out of 8000 is 0.702128\n",
      " Training accuracy at 1000 out of 8000 is 0.989362\n",
      " Training accuracy at 2000 out of 8000 is 1.0\n",
      " Training accuracy at 3000 out of 8000 is 1.0\n",
      " Training accuracy at 4000 out of 8000 is 1.0\n",
      " Training accuracy at 5000 out of 8000 is 1.0\n",
      " Training accuracy at 6000 out of 8000 is 1.0\n",
      " Training accuracy at 7000 out of 8000 is 1.0\n",
      "xx: 0\n",
      "total_rst[xx]: [ 0.  0.  0.  1.  0.  1.  0.  0.  0.  0.  0.  1.  1.  0.  0.  0.  0.  0.\n",
      "  1.  0.]\n",
      "Training at model 1\n",
      " Training accuracy at 0 out of 8000 is 0.382979\n",
      " Training accuracy at 1000 out of 8000 is 0.978723\n",
      " Training accuracy at 2000 out of 8000 is 1.0\n",
      " Training accuracy at 3000 out of 8000 is 1.0\n",
      " Training accuracy at 4000 out of 8000 is 0.989362\n",
      " Training accuracy at 5000 out of 8000 is 1.0\n",
      " Training accuracy at 6000 out of 8000 is 1.0\n",
      " Training accuracy at 7000 out of 8000 is 1.0\n",
      "xx: 1\n",
      "total_rst[xx]: [ 0.  0.  0.  0.  0.  0.  0.  1.  1.  1.  1.  0.  0.  0.  0.  0.  0.  0.\n",
      "  0.  0.]\n",
      "Training at model 2\n",
      " Training accuracy at 0 out of 8000 is 0.574468\n",
      " Training accuracy at 1000 out of 8000 is 0.989362\n",
      " Training accuracy at 2000 out of 8000 is 1.0\n",
      " Training accuracy at 3000 out of 8000 is 1.0\n",
      " Training accuracy at 4000 out of 8000 is 1.0\n",
      " Training accuracy at 5000 out of 8000 is 1.0\n",
      " Training accuracy at 6000 out of 8000 is 1.0\n",
      " Training accuracy at 7000 out of 8000 is 1.0\n",
      "xx: 2\n",
      "total_rst[xx]: [ 0.  0.  0.  1.  0.  1.  0.  0.  1.  0.  1.  0.  0.  0.  0.  0.  0.  0.\n",
      "  0.  0.]\n",
      "Training at model 3\n",
      " Training accuracy at 0 out of 8000 is 0.702128\n",
      " Training accuracy at 1000 out of 8000 is 0.989362\n",
      " Training accuracy at 2000 out of 8000 is 1.0\n",
      " Training accuracy at 3000 out of 8000 is 1.0\n",
      " Training accuracy at 4000 out of 8000 is 1.0\n",
      " Training accuracy at 5000 out of 8000 is 1.0\n",
      " Training accuracy at 6000 out of 8000 is 1.0\n",
      " Training accuracy at 7000 out of 8000 is 1.0\n",
      "xx: 3\n",
      "total_rst[xx]: [ 0.  0.  0.  1.  0.  1.  0.  0.  0.  0.  1.  1.  0.  1.  0.  0.  0.  0.\n",
      "  0.  0.]\n",
      "Training at model 4\n",
      " Training accuracy at 0 out of 8000 is 0.37234\n",
      " Training accuracy at 1000 out of 8000 is 1.0\n",
      " Training accuracy at 2000 out of 8000 is 1.0\n",
      " Training accuracy at 3000 out of 8000 is 1.0\n",
      " Training accuracy at 4000 out of 8000 is 1.0\n",
      " Training accuracy at 5000 out of 8000 is 1.0\n",
      " Training accuracy at 6000 out of 8000 is 1.0\n",
      " Training accuracy at 7000 out of 8000 is 1.0\n",
      "xx: 4\n",
      "total_rst[xx]: [ 0.  0.  0.  1.  0.  1.  0.  0.  1.  0.  1.  0.  0.  0.  0.  0.  0.  0.\n",
      "  0.  0.]\n",
      "len(rst_arr): 20\n",
      "rst_arr: [ 0.  0.  0.  1.  0.  1.  0.  0.  1.  0.  1.  1.  0.  0.  0.  0.  0.  0.\n",
      "  0.  0.]\n",
      "rst_arr.shape: (20,)\n"
     ]
    }
   ],
   "source": [
    "## Start training model\n",
    "## Place for the input variables\n",
    "\n",
    "total_rst=np.zeros((model_num,len(y_test)), dtype=np.float)\n",
    "for xx in range(0,model_num):\n",
    "    print(\"Training at model \"+str(xx))\n",
    "    x = tf.placeholder(\"float\", shape=[None, D], name = 'Input_data')\n",
    "    y_ = tf.placeholder(tf.int64, shape=[None], name = 'Ground_truth')\n",
    "    keep_prob = tf.placeholder(\"float\")\n",
    "    bn_train = tf.placeholder(tf.bool)          #Boolean value to guide batchnorm\n",
    "\n",
    "    ## w and b and conv function\n",
    "    def weight_variable(shape, name):\n",
    "        initial = tf.truncated_normal(shape, stddev=0.1)\n",
    "        return tf.Variable(initial, name = name)\n",
    "\n",
    "    def bias_variable(shape, name):\n",
    "        initial = tf.constant(0.1, shape=shape)\n",
    "        return tf.Variable(initial, name = name)\n",
    "\n",
    "    def conv2d(x, W):\n",
    "        return tf.nn.conv2d(x, W, strides=[1, 1, 1, 1], padding='SAME')\n",
    "\n",
    "    def max_pool_2x2(x):\n",
    "        return tf.nn.max_pool(x, ksize=[1, 2, 2, 1],\n",
    "                            strides=[1, 2, 2, 1], padding='SAME')\n",
    "\n",
    "    with tf.name_scope(\"Reshaping_data\") as scope:\n",
    "        x_image = tf.reshape(x, [-1,D,1,1])\n",
    "\n",
    "    ## Build the graph\n",
    "    # ewma is the decay for which we update the moving average of the \n",
    "    # mean and variance in the batch-norm layers\n",
    "    with tf.name_scope(\"Conv1\") as scope:\n",
    "        W_conv1 = weight_variable([4, 1, 1, num_filt_1], 'Conv_Layer_1')\n",
    "        b_conv1 = bias_variable([num_filt_1], 'bias_for_Conv_Layer_1')\n",
    "        a_conv1 = conv2d(x_image, W_conv1) + b_conv1\n",
    "    \n",
    "    with tf.name_scope('Batch_norm_conv1') as scope:\n",
    "        ewma = tf.train.ExponentialMovingAverage(decay=0.99)                  \n",
    "        bn_conv1 = ConvolutionalBatchNormalizer(num_filt_1, 0.001, ewma, True)           \n",
    "        update_assignments = bn_conv1.get_assigner() \n",
    "        a_conv1 = bn_conv1.normalize(a_conv1, train=bn_train) \n",
    "        h_conv1 = tf.nn.relu(a_conv1)\n",
    "    \n",
    "    with tf.name_scope(\"Conv2\") as scope:\n",
    "        W_conv2 = weight_variable([4, 1, num_filt_1, num_filt_2], 'Conv_Layer_2')\n",
    "        b_conv2 = bias_variable([num_filt_2], 'bias_for_Conv_Layer_2')\n",
    "        a_conv2 = conv2d(h_conv1, W_conv2) + b_conv2\n",
    "    \n",
    "    with tf.name_scope('Batch_norm_conv2') as scope:\n",
    "        bn_conv2 = ConvolutionalBatchNormalizer(num_filt_2, 0.001, ewma, True)           \n",
    "        update_assignments = bn_conv2.get_assigner() \n",
    "        a_conv2 = bn_conv2.normalize(a_conv2, train=bn_train) \n",
    "        h_conv2 = tf.nn.relu(a_conv2)\n",
    "      \n",
    "    with tf.name_scope(\"Conv3\") as scope:\n",
    "        W_conv3 = weight_variable([4, 1, num_filt_2, num_filt_3], 'Conv_Layer_3')\n",
    "        b_conv3 = bias_variable([num_filt_3], 'bias_for_Conv_Layer_3')\n",
    "        a_conv3 = conv2d(h_conv2, W_conv3) + b_conv3\n",
    "    \n",
    "    with tf.name_scope('Batch_norm_conv3') as scope:\n",
    "        bn_conv3 = ConvolutionalBatchNormalizer(num_filt_3, 0.001, ewma, True)           \n",
    "        update_assignments = bn_conv3.get_assigner() \n",
    "        a_conv3 = bn_conv3.normalize(a_conv3, train=bn_train) \n",
    "        h_conv3 = tf.nn.relu(a_conv3)\n",
    "\n",
    "    with tf.name_scope(\"Fully_Connected1\") as scope:\n",
    "        W_fc1 = weight_variable([D*num_filt_3, num_fc_1], 'Fully_Connected_layer_1')\n",
    "        b_fc1 = bias_variable([num_fc_1], 'bias_for_Fully_Connected_Layer_1')\n",
    "        h_conv3_flat = tf.reshape(h_conv3, [-1, D*num_filt_3])\n",
    "        h_fc1 = tf.nn.relu(tf.matmul(h_conv3_flat, W_fc1) + b_fc1)\n",
    "    \n",
    "    with tf.name_scope(\"Fully_Connected2\") as scope:\n",
    "        h_fc1_drop = tf.nn.dropout(h_fc1, keep_prob)\n",
    "        W_fc2 = tf.Variable(tf.truncated_normal([num_fc_1, num_classes], stddev=0.1),name = 'W_fc2')\n",
    "        b_fc2 = tf.Variable(tf.constant(0.1, shape=[num_classes]),name = 'b_fc2')\n",
    "        h_fc2 = tf.matmul(h_fc1_drop, W_fc2) + b_fc2   \n",
    "    with tf.name_scope(\"SoftMax\") as scope:\n",
    "        regularizers = (tf.nn.l2_loss(W_conv1) + tf.nn.l2_loss(b_conv1) +\n",
    "                      tf.nn.l2_loss(W_conv2) + tf.nn.l2_loss(b_conv2) + \n",
    "                      tf.nn.l2_loss(W_conv3) + tf.nn.l2_loss(b_conv3) +\n",
    "                      tf.nn.l2_loss(W_fc1) + tf.nn.l2_loss(b_fc1) + \n",
    "                      tf.nn.l2_loss(W_fc2) + tf.nn.l2_loss(b_fc2))\n",
    "\n",
    "        loss = tf.nn.sparse_softmax_cross_entropy_with_logits(h_fc2,y_)\n",
    "        cost = tf.reduce_sum(loss) / batch_size\n",
    "        cost += regularization*regularizers\n",
    " \n",
    "    ## define train optimizer\n",
    "    with tf.name_scope(\"train\") as scope:\n",
    "        tvars = tf.trainable_variables()\n",
    "        # We clip the gradients to prevent explosion\n",
    "        grads = tf.gradients(cost, tvars)\n",
    "        optimizer = tf.train.AdamOptimizer(learning_rate)\n",
    "        gradients = zip(grads, tvars)\n",
    "        train_step = optimizer.apply_gradients(gradients)\n",
    "\n",
    "    with tf.name_scope(\"Evaluating_accuracy\") as scope:\n",
    "        correct_prediction = tf.equal(tf.argmax(h_fc2,1), y_)\n",
    "        accuracy = tf.reduce_mean(tf.cast(correct_prediction, \"float\"))\n",
    "  \n",
    "    ## run session and evaluate performance##\n",
    "    perf_collect = np.zeros((3,int(np.floor(max_iterations /100))))\n",
    "    with tf.Session() as sess:\n",
    "        sess.run(tf.global_variables_initializer())\n",
    "    \n",
    "        step = 0      # Step is a counter for filling the numpy array perf_collect\n",
    "        for i in range(max_iterations):#training process\n",
    "            batch_ind = np.random.choice(N,batch_size,replace=False)\n",
    "      \n",
    "            if i==0:\n",
    "                acc_test_before = sess.run(accuracy, feed_dict={ x: X_test, y_: y_test, keep_prob: 1.0, bn_train : False})\n",
    "            if i%1000 == 0:\n",
    "                #Check training performance\n",
    "                result = sess.run(accuracy,feed_dict = { x: X_train, y_: y_train, keep_prob: 1.0, bn_train : False})\n",
    "                print(\" Training accuracy at %s out of %s is %s\" % (i,max_iterations, result))\n",
    "                step +=1\n",
    "            sess.run(train_step,feed_dict={x:X_train[batch_ind], y_: y_train[batch_ind], keep_prob: dropout, bn_train : True})\n",
    "      \n",
    "        # training process done!\n",
    "        predict=sess.run(tf.argmax(h_fc2,1), feed_dict={ x: X_test, y_: y_test, keep_prob: 1.0, bn_train : False})\n",
    "        total_rst[xx]=predict\n",
    "        print (\"xx: {}\".format(xx))\n",
    "        print (\"total_rst[xx]: {}\".format(total_rst[xx]))\n",
    "    \n",
    "    \n",
    "## voting result\n",
    "rst_arr= np.zeros(len(total_rst[0]), dtype=np.float)\n",
    "for i in range(0,len(total_rst[0])):\n",
    "    voting=0\n",
    "    for j in range(0,len(total_rst)):\n",
    "        if(total_rst[j,i]==1):\n",
    "            voting+=1\n",
    "    # print (\"voting: {}\".format(voting))      \n",
    "    if(voting > voting_times):\n",
    "        rst_arr[i]=1\n",
    "    else:\n",
    "        rst_arr[i]=0\n",
    "print(\"len(rst_arr): {}\".format(len(rst_arr)))\n",
    "print(\"rst_arr: {}\".format(rst_arr))\n",
    "print(\"rst_arr.shape: {}\".format(rst_arr.shape))\n",
    "\n"
   ]
  },
  {
   "cell_type": "code",
   "execution_count": 10,
   "metadata": {
    "collapsed": false
   },
   "outputs": [
    {
     "name": "stdout",
     "output_type": "stream",
     "text": [
      "history data counts: 200\n"
     ]
    },
    {
     "data": {
      "image/png": "[encoded data removed]",
      "text/plain": [
       "<matplotlib.figure.Figure at 0x7ffb612a8320>"
      ]
     },
     "metadata": {},
     "output_type": "display_data"
    }
   ],
   "source": [
    "## Show the graph of result\n",
    "\n",
    "data = [val for sublist in X_test for val in sublist]\n",
    "# print(\"data: {}\".format(data))\n",
    "\n",
    "print(\"history data counts: {}\".format(len(data)))\n",
    "\n",
    "close_line= np.zeros(len(data), dtype=np.float)\n",
    "for x in range(0,len(data)):\n",
    "    close_line[x]=float(data[x])\n",
    "\n",
    "# draw pic\n",
    "plt.figure()\n",
    "new_buy= np.zeros(len(close_line), dtype=np.float)\n",
    "for i in range(0,len(rst_arr)):\n",
    "    # new_buy[i*10]=rst_arr[i]*close_line[i*10]\n",
    "    for j in range(0, 10):\n",
    "        new_buy[i*10 + j]=rst_arr[i]*close_line[i*10 +j]\n",
    "    \n",
    "# for i in range(0,len(y_test)):\n",
    "#    for j in range(0, 10):\n",
    "#        new_buy[i*10 + j]=y_test[i]*close_line[i*10 + j]\n",
    "# new_buy[i*10]=y_test[i]*close_line[i*10]\n",
    "    \n",
    "plt.plot(close_line,label='Close Price',linewidth=1,color=[0,0,1])\n",
    "plt.plot(new_buy, 'ro',label='Buy at',linewidth=1,color=[1,0,0])\n",
    "# plt.title(\"When To Buy?(\"+startDay+\"~\"+endDay+\")\")\n",
    "plt.title(\"When To Buy?\")\n",
    "plt.legend(bbox_to_anchor=(1.05, 1), loc=2, borderaxespad=0.)\n",
    "plt.show()"
   ]
  },
  {
   "cell_type": "code",
   "execution_count": 12,
   "metadata": {
    "collapsed": false
   },
   "outputs": [
    {
     "name": "stdout",
     "output_type": "stream",
     "text": [
      "[NbConvertApp] Converting notebook CNN_Classifier_API.ipynb to markdown\n",
      "[NbConvertApp] Support files will be in CNN_Classifier_API_files/\n",
      "[NbConvertApp] Making directory CNN_Classifier_API_files\n",
      "[NbConvertApp] Writing 16426 bytes to CNN_Classifier_API.md\n"
     ]
    }
   ],
   "source": [
    "## Let's convert this notebook to a README for the GitHub project's title page:\n",
    "!jupyter nbconvert --to markdown CNN_Classifier_API.ipynb\n",
    "!mv CNN_Classifier_API.md README.md"
   ]
  }
 ],
 "metadata": {
  "kernelspec": {
   "display_name": "Python 3",
   "language": "python",
   "name": "python3"
  },
  "language_info": {
   "codemirror_mode": {
    "name": "ipython",
    "version": 3
   },
   "file_extension": ".py",
   "mimetype": "text/x-python",
   "name": "python",
   "nbconvert_exporter": "python",
   "pygments_lexer": "ipython3",
   "version": "3.4.5"
  }
 },
 "nbformat": 4,
 "nbformat_minor": 0
}
